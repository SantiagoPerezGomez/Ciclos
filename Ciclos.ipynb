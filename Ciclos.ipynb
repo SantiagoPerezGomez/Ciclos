{
  "nbformat": 4,
  "nbformat_minor": 0,
  "metadata": {
    "colab": {
      "provenance": []
    },
    "kernelspec": {
      "name": "python3",
      "display_name": "Python 3"
    },
    "language_info": {
      "name": "python"
    }
  },
  "cells": [
    {
      "cell_type": "markdown",
      "source": [
        "**Santiago Perez Gomez**\n",
        "\n",
        "**Grupo 11**\n",
        "\n",
        "**Version 0.1**"
      ],
      "metadata": {
        "id": "CUg9-i_ykJQX"
      }
    },
    {
      "cell_type": "code",
      "execution_count": null,
      "metadata": {
        "id": "VMDLF4xwkGf8"
      },
      "outputs": [],
      "source": [
        "inicio=int(input(\"ingrese el valor inicial : \"))\n",
        "fin=int(input(\"ingrese el valor final : \"))\n",
        "incremento=int(input(\"ingrese el incremento : \"))\n",
        "for x in range(inicio,fin,incremento):\n",
        "  print(x)"
      ]
    },
    {
      "cell_type": "code",
      "source": [
        "mult=0\n",
        "tabla=int(input(\"que tabla desea: \"))\n",
        "for x in range(1,11):\n",
        "  mult = x*tabla\n",
        "  print(tabla, \"x\", x,\"=\",mult)"
      ],
      "metadata": {
        "colab": {
          "base_uri": "https://localhost:8080/"
        },
        "id": "Fnx7vpMrkfvn",
        "outputId": "b695f45c-483b-41d5-dffb-a64e7647955e"
      },
      "execution_count": 1,
      "outputs": [
        {
          "output_type": "stream",
          "name": "stdout",
          "text": [
            "que tabla desea: 6\n",
            "6 x 1 = 6\n",
            "6 x 2 = 12\n",
            "6 x 3 = 18\n",
            "6 x 4 = 24\n",
            "6 x 5 = 30\n",
            "6 x 6 = 36\n",
            "6 x 7 = 42\n",
            "6 x 8 = 48\n",
            "6 x 9 = 54\n",
            "6 x 10 = 60\n"
          ]
        }
      ]
    },
    {
      "cell_type": "code",
      "source": [
        "mult=0\n",
        "tabla=int(input(\"que tabla desea\"))\n",
        "x=1\n",
        "while x<+11:\n",
        "  mult=tabla* x\n",
        "  print(tabla, \"x\",x,\"=\",mult)\n",
        "  x=x+1"
      ],
      "metadata": {
        "id": "MBFHgB3Wkpo2"
      },
      "execution_count": null,
      "outputs": []
    }
  ]
}